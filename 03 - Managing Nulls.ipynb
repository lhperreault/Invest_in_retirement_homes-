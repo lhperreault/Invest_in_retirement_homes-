{
 "cells": [
  {
   "cell_type": "markdown",
   "metadata": {},
   "source": [
    "### Managing Nulls with Pandas\n",
    "\n",
    "In this notebook, we will take a look at some ways to manage nulls using Pandas DataFrames.\n",
    "\n",
    "For even more details on how to do this, check out the [Panda's documentation](http://pandas.pydata.org/pandas-docs/stable/missing_data.html)."
   ]
  },
  {
   "cell_type": "code",
   "execution_count": 1,
   "metadata": {},
   "outputs": [],
   "source": [
    "import pandas as pd\n",
    "from numpy import random"
   ]
  },
  {
   "cell_type": "code",
   "execution_count": 2,
   "metadata": {},
   "outputs": [
    {
     "name": "stderr",
     "output_type": "stream",
     "text": [
      "C:\\Users\\perreaultl1\\AppData\\Local\\Temp\\ipykernel_15572\\2431532359.py:1: DtypeWarning: Columns (8,89) have mixed types. Specify dtype option on import or set low_memory=False.\n",
      "  df = pd.read_csv('../Datasets_P1/df_Cost.csv')\n"
     ]
    }
   ],
   "source": [
    "df = pd.read_csv('../Datasets_P1/df_Cost.csv')"
   ]
  },
  {
   "cell_type": "markdown",
   "metadata": {},
   "source": [
    "### Data Quality Check"
   ]
  },
  {
   "cell_type": "code",
   "execution_count": 3,
   "metadata": {},
   "outputs": [
    {
     "data": {
      "text/html": [
       "<div>\n",
       "<style scoped>\n",
       "    .dataframe tbody tr th:only-of-type {\n",
       "        vertical-align: middle;\n",
       "    }\n",
       "\n",
       "    .dataframe tbody tr th {\n",
       "        vertical-align: top;\n",
       "    }\n",
       "\n",
       "    .dataframe thead th {\n",
       "        text-align: right;\n",
       "    }\n",
       "</style>\n",
       "<table border=\"1\" class=\"dataframe\">\n",
       "  <thead>\n",
       "    <tr style=\"text-align: right;\">\n",
       "      <th></th>\n",
       "      <th>rpt_rec_num</th>\n",
       "      <th>Provider_CCN</th>\n",
       "      <th>Facility_Name</th>\n",
       "      <th>Street_Address</th>\n",
       "      <th>City</th>\n",
       "      <th>State_Code</th>\n",
       "      <th>Zip_Code</th>\n",
       "      <th>County</th>\n",
       "      <th>Medicare_CBSA_Number</th>\n",
       "      <th>Rural_versus_Urban</th>\n",
       "      <th>...</th>\n",
       "      <th>Total_Current_Assets</th>\n",
       "      <th>Total_Other_Income</th>\n",
       "      <th>SNF_Bed_Days_Available</th>\n",
       "      <th>Leasehold_improvements</th>\n",
       "      <th>Mortgage_payable</th>\n",
       "      <th>Notes_and_Loans_Payable_(short_term)</th>\n",
       "      <th>Land</th>\n",
       "      <th>Inventory</th>\n",
       "      <th>Prepaid_expenses</th>\n",
       "      <th>Year</th>\n",
       "    </tr>\n",
       "  </thead>\n",
       "  <tbody>\n",
       "    <tr>\n",
       "      <th>0</th>\n",
       "      <td>1089712</td>\n",
       "      <td>495134</td>\n",
       "      <td>RIDGECREST MANOR NURSING &amp; REHAB CTR</td>\n",
       "      <td>157 ROSS-CARTER BLVD</td>\n",
       "      <td>DUFFIELD</td>\n",
       "      <td>VA</td>\n",
       "      <td>24244</td>\n",
       "      <td>SCOTT</td>\n",
       "      <td>28700.0</td>\n",
       "      <td>U</td>\n",
       "      <td>...</td>\n",
       "      <td>1439227.0</td>\n",
       "      <td>123.0</td>\n",
       "      <td>NaN</td>\n",
       "      <td>NaN</td>\n",
       "      <td>NaN</td>\n",
       "      <td>NaN</td>\n",
       "      <td>NaN</td>\n",
       "      <td>NaN</td>\n",
       "      <td>NaN</td>\n",
       "      <td>2015</td>\n",
       "    </tr>\n",
       "    <tr>\n",
       "      <th>1</th>\n",
       "      <td>1091410</td>\n",
       "      <td>75417</td>\n",
       "      <td>REGENCY HEIGHTS OF NORWICH LLC</td>\n",
       "      <td>60 CROUCH AVENUE</td>\n",
       "      <td>NORWICH</td>\n",
       "      <td>CT</td>\n",
       "      <td>6360</td>\n",
       "      <td>NEW LONDON</td>\n",
       "      <td>35980.0</td>\n",
       "      <td>U</td>\n",
       "      <td>...</td>\n",
       "      <td>980150.0</td>\n",
       "      <td>7.0</td>\n",
       "      <td>NaN</td>\n",
       "      <td>NaN</td>\n",
       "      <td>NaN</td>\n",
       "      <td>NaN</td>\n",
       "      <td>NaN</td>\n",
       "      <td>NaN</td>\n",
       "      <td>NaN</td>\n",
       "      <td>2015</td>\n",
       "    </tr>\n",
       "    <tr>\n",
       "      <th>2</th>\n",
       "      <td>1093283</td>\n",
       "      <td>165252</td>\n",
       "      <td>WESTVIEW ACRES CARE CENTER</td>\n",
       "      <td>203 SW LORRAINE</td>\n",
       "      <td>LEON</td>\n",
       "      <td>IA</td>\n",
       "      <td>50144</td>\n",
       "      <td>DECATUR</td>\n",
       "      <td>99916.0</td>\n",
       "      <td>R</td>\n",
       "      <td>...</td>\n",
       "      <td>244239.0</td>\n",
       "      <td>8392.0</td>\n",
       "      <td>NaN</td>\n",
       "      <td>NaN</td>\n",
       "      <td>NaN</td>\n",
       "      <td>NaN</td>\n",
       "      <td>NaN</td>\n",
       "      <td>NaN</td>\n",
       "      <td>NaN</td>\n",
       "      <td>2015</td>\n",
       "    </tr>\n",
       "    <tr>\n",
       "      <th>3</th>\n",
       "      <td>1095547</td>\n",
       "      <td>225497</td>\n",
       "      <td>VERO HEALTH &amp; REHAB  PARKWAY</td>\n",
       "      <td>1190 VFW PARKWAY</td>\n",
       "      <td>WEST ROXBURY</td>\n",
       "      <td>MA</td>\n",
       "      <td>2132</td>\n",
       "      <td>SUFFOLK</td>\n",
       "      <td>14454.0</td>\n",
       "      <td>U</td>\n",
       "      <td>...</td>\n",
       "      <td>1728824.0</td>\n",
       "      <td>2668.0</td>\n",
       "      <td>NaN</td>\n",
       "      <td>NaN</td>\n",
       "      <td>NaN</td>\n",
       "      <td>NaN</td>\n",
       "      <td>NaN</td>\n",
       "      <td>NaN</td>\n",
       "      <td>NaN</td>\n",
       "      <td>2015</td>\n",
       "    </tr>\n",
       "    <tr>\n",
       "      <th>4</th>\n",
       "      <td>1095966</td>\n",
       "      <td>265161</td>\n",
       "      <td>WILSONS CREEK NURSING &amp; REHAB</td>\n",
       "      <td>3403 WEST MT VERNON</td>\n",
       "      <td>SPRINGFIELD</td>\n",
       "      <td>MO</td>\n",
       "      <td>65802</td>\n",
       "      <td>GREENE</td>\n",
       "      <td>44180.0</td>\n",
       "      <td>U</td>\n",
       "      <td>...</td>\n",
       "      <td>807209.0</td>\n",
       "      <td>4474.0</td>\n",
       "      <td>NaN</td>\n",
       "      <td>NaN</td>\n",
       "      <td>NaN</td>\n",
       "      <td>NaN</td>\n",
       "      <td>NaN</td>\n",
       "      <td>NaN</td>\n",
       "      <td>NaN</td>\n",
       "      <td>2015</td>\n",
       "    </tr>\n",
       "  </tbody>\n",
       "</table>\n",
       "<p>5 rows × 93 columns</p>\n",
       "</div>"
      ],
      "text/plain": [
       "   rpt_rec_num  Provider_CCN                         Facility_Name  \\\n",
       "0      1089712        495134  RIDGECREST MANOR NURSING & REHAB CTR   \n",
       "1      1091410         75417        REGENCY HEIGHTS OF NORWICH LLC   \n",
       "2      1093283        165252            WESTVIEW ACRES CARE CENTER   \n",
       "3      1095547        225497          VERO HEALTH & REHAB  PARKWAY   \n",
       "4      1095966        265161         WILSONS CREEK NURSING & REHAB   \n",
       "\n",
       "         Street_Address          City State_Code Zip_Code      County  \\\n",
       "0  157 ROSS-CARTER BLVD      DUFFIELD         VA    24244       SCOTT   \n",
       "1      60 CROUCH AVENUE       NORWICH         CT     6360  NEW LONDON   \n",
       "2       203 SW LORRAINE          LEON         IA    50144     DECATUR   \n",
       "3      1190 VFW PARKWAY  WEST ROXBURY         MA     2132     SUFFOLK   \n",
       "4   3403 WEST MT VERNON   SPRINGFIELD         MO    65802      GREENE   \n",
       "\n",
       "  Medicare_CBSA_Number Rural_versus_Urban  ... Total_Current_Assets  \\\n",
       "0              28700.0                  U  ...            1439227.0   \n",
       "1              35980.0                  U  ...             980150.0   \n",
       "2              99916.0                  R  ...             244239.0   \n",
       "3              14454.0                  U  ...            1728824.0   \n",
       "4              44180.0                  U  ...             807209.0   \n",
       "\n",
       "  Total_Other_Income  SNF_Bed_Days_Available  Leasehold_improvements  \\\n",
       "0              123.0                     NaN                     NaN   \n",
       "1                7.0                     NaN                     NaN   \n",
       "2             8392.0                     NaN                     NaN   \n",
       "3             2668.0                     NaN                     NaN   \n",
       "4             4474.0                     NaN                     NaN   \n",
       "\n",
       "   Mortgage_payable  Notes_and_Loans_Payable_(short_term)  Land  Inventory  \\\n",
       "0               NaN                                   NaN   NaN        NaN   \n",
       "1               NaN                                   NaN   NaN        NaN   \n",
       "2               NaN                                   NaN   NaN        NaN   \n",
       "3               NaN                                   NaN   NaN        NaN   \n",
       "4               NaN                                   NaN   NaN        NaN   \n",
       "\n",
       "   Prepaid_expenses  Year  \n",
       "0               NaN  2015  \n",
       "1               NaN  2015  \n",
       "2               NaN  2015  \n",
       "3               NaN  2015  \n",
       "4               NaN  2015  \n",
       "\n",
       "[5 rows x 93 columns]"
      ]
     },
     "execution_count": 3,
     "metadata": {},
     "output_type": "execute_result"
    }
   ],
   "source": [
    "df.head()"
   ]
  },
  {
   "cell_type": "code",
   "execution_count": 4,
   "metadata": {},
   "outputs": [
    {
     "data": {
      "text/plain": [
       "rpt_rec_num                               int64\n",
       "Provider_CCN                              int64\n",
       "Facility_Name                            object\n",
       "Street_Address                           object\n",
       "City                                     object\n",
       "                                         ...   \n",
       "Notes_and_Loans_Payable_(short_term)    float64\n",
       "Land                                     object\n",
       "Inventory                               float64\n",
       "Prepaid_expenses                        float64\n",
       "Year                                      int64\n",
       "Length: 93, dtype: object"
      ]
     },
     "execution_count": 4,
     "metadata": {},
     "output_type": "execute_result"
    }
   ],
   "source": [
    "df.dtypes"
   ]
  },
  {
   "cell_type": "code",
   "execution_count": 5,
   "metadata": {},
   "outputs": [
    {
     "ename": "AttributeError",
     "evalue": "'DataFrame' object has no attribute 'note'",
     "output_type": "error",
     "traceback": [
      "\u001b[1;31m---------------------------------------------------------------------------\u001b[0m",
      "\u001b[1;31mAttributeError\u001b[0m                            Traceback (most recent call last)",
      "\u001b[1;32m~\\AppData\\Local\\Temp\\ipykernel_15572\\3023674769.py\u001b[0m in \u001b[0;36m?\u001b[1;34m()\u001b[0m\n\u001b[1;32m----> 1\u001b[1;33m \u001b[0mdf\u001b[0m\u001b[1;33m.\u001b[0m\u001b[0mnote\u001b[0m\u001b[1;33m.\u001b[0m\u001b[0mvalue_counts\u001b[0m\u001b[1;33m(\u001b[0m\u001b[1;33m)\u001b[0m\u001b[1;33m\u001b[0m\u001b[1;33m\u001b[0m\u001b[0m\n\u001b[0m",
      "\u001b[1;32m~\\AppData\\Roaming\\Python\\Python312\\site-packages\\pandas\\core\\generic.py\u001b[0m in \u001b[0;36m?\u001b[1;34m(self, name)\u001b[0m\n\u001b[0;32m   6295\u001b[0m             \u001b[1;32mand\u001b[0m \u001b[0mname\u001b[0m \u001b[1;32mnot\u001b[0m \u001b[1;32min\u001b[0m \u001b[0mself\u001b[0m\u001b[1;33m.\u001b[0m\u001b[0m_accessors\u001b[0m\u001b[1;33m\u001b[0m\u001b[1;33m\u001b[0m\u001b[0m\n\u001b[0;32m   6296\u001b[0m             \u001b[1;32mand\u001b[0m \u001b[0mself\u001b[0m\u001b[1;33m.\u001b[0m\u001b[0m_info_axis\u001b[0m\u001b[1;33m.\u001b[0m\u001b[0m_can_hold_identifiers_and_holds_name\u001b[0m\u001b[1;33m(\u001b[0m\u001b[0mname\u001b[0m\u001b[1;33m)\u001b[0m\u001b[1;33m\u001b[0m\u001b[1;33m\u001b[0m\u001b[0m\n\u001b[0;32m   6297\u001b[0m         \u001b[1;33m)\u001b[0m\u001b[1;33m:\u001b[0m\u001b[1;33m\u001b[0m\u001b[1;33m\u001b[0m\u001b[0m\n\u001b[0;32m   6298\u001b[0m             \u001b[1;32mreturn\u001b[0m \u001b[0mself\u001b[0m\u001b[1;33m[\u001b[0m\u001b[0mname\u001b[0m\u001b[1;33m]\u001b[0m\u001b[1;33m\u001b[0m\u001b[1;33m\u001b[0m\u001b[0m\n\u001b[1;32m-> 6299\u001b[1;33m         \u001b[1;32mreturn\u001b[0m \u001b[0mobject\u001b[0m\u001b[1;33m.\u001b[0m\u001b[0m__getattribute__\u001b[0m\u001b[1;33m(\u001b[0m\u001b[0mself\u001b[0m\u001b[1;33m,\u001b[0m \u001b[0mname\u001b[0m\u001b[1;33m)\u001b[0m\u001b[1;33m\u001b[0m\u001b[1;33m\u001b[0m\u001b[0m\n\u001b[0m",
      "\u001b[1;31mAttributeError\u001b[0m: 'DataFrame' object has no attribute 'note'"
     ]
    }
   ],
   "source": [
    "df.note.value_counts()"
   ]
  },
  {
   "cell_type": "markdown",
   "metadata": {},
   "source": [
    "### Let's remove all null values (including the note: n/a)"
   ]
  },
  {
   "cell_type": "code",
   "execution_count": null,
   "metadata": {},
   "outputs": [],
   "source": [
    "# df = pd.read_csv('../data/iot_example_with_nulls.csv', \n",
    " #                 na_values=['n/a'])"
   ]
  },
  {
   "cell_type": "markdown",
   "metadata": {},
   "source": [
    "### Test to see if we can use dropna"
   ]
  },
  {
   "cell_type": "code",
   "execution_count": 6,
   "metadata": {},
   "outputs": [
    {
     "data": {
      "text/plain": [
       "(106269, 93)"
      ]
     },
     "execution_count": 6,
     "metadata": {},
     "output_type": "execute_result"
    }
   ],
   "source": [
    "df.shape"
   ]
  },
  {
   "cell_type": "code",
   "execution_count": 7,
   "metadata": {},
   "outputs": [
    {
     "data": {
      "text/plain": [
       "(0, 93)"
      ]
     },
     "execution_count": 7,
     "metadata": {},
     "output_type": "execute_result"
    }
   ],
   "source": [
    "df.dropna().shape"
   ]
  },
  {
   "cell_type": "code",
   "execution_count": 8,
   "metadata": {},
   "outputs": [
    {
     "data": {
      "text/plain": [
       "(106269, 93)"
      ]
     },
     "execution_count": 8,
     "metadata": {},
     "output_type": "execute_result"
    }
   ],
   "source": [
    "df.dropna(how='all', axis=1).shape"
   ]
  },
  {
   "cell_type": "markdown",
   "metadata": {},
   "source": [
    "### Test to see if we can drop columns"
   ]
  },
  {
   "cell_type": "code",
   "execution_count": 9,
   "metadata": {},
   "outputs": [],
   "source": [
    "my_columns = list(df.columns)"
   ]
  },
  {
   "cell_type": "code",
   "execution_count": 10,
   "metadata": {},
   "outputs": [
    {
     "data": {
      "text/plain": [
       "['rpt_rec_num',\n",
       " 'Provider_CCN',\n",
       " 'Facility_Name',\n",
       " 'Street_Address',\n",
       " 'City',\n",
       " 'State_Code',\n",
       " 'Zip_Code',\n",
       " 'County',\n",
       " 'Medicare_CBSA_Number',\n",
       " 'Rural_versus_Urban',\n",
       " 'Fiscal_Year_Begin_Date',\n",
       " 'Fiscal_Year_End_Date',\n",
       " 'Type_of_Control',\n",
       " 'Accounts_Receivable',\n",
       " 'Accounts_payable',\n",
       " 'Buildings',\n",
       " 'Cash_on_hand_and_in_banks',\n",
       " 'General_fund_balance',\n",
       " 'Gross_Revenue',\n",
       " 'Inpatient_PPS_Amount',\n",
       " 'Inpatient_Revenue',\n",
       " 'Less_Total_Operating_Expense',\n",
       " 'Less_discounts_on_patients',\n",
       " 'Major_movable_equipment',\n",
       " 'Net_Income',\n",
       " 'Net_Patient_Revenue',\n",
       " 'Number_of_Beds',\n",
       " 'Other_Assets',\n",
       " 'Other_current_liabilities',\n",
       " 'Overhead_Non_Salary_Costs',\n",
       " 'SNF_Admissions_Other',\n",
       " 'SNF_Admissions_Title_XIX',\n",
       " 'SNF_Admissions_Title_XVIII',\n",
       " 'SNF_Admissions_Total',\n",
       " 'SNF_Days_Other',\n",
       " 'SNF_Days_Title_XIX',\n",
       " 'SNF_Days_Title_XVIII',\n",
       " 'SNF_Days_Total',\n",
       " 'SNF_Discharges_Title_Other',\n",
       " 'SNF_Discharges_Title_XIX',\n",
       " 'SNF_Discharges_Title_XVIII',\n",
       " 'SNF_Discharges_Total',\n",
       " 'Salaries_wages_and_fees_payable',\n",
       " 'Total_Assets',\n",
       " 'Total_Bed_Days_Available',\n",
       " 'Total_Costs',\n",
       " 'Total_Days_Other',\n",
       " 'Total_Days_Title_XIX',\n",
       " 'Total_Days_Title_XVIII',\n",
       " 'Total_Days_Total',\n",
       " 'Total_Discharges_Title_Other',\n",
       " 'Total_Discharges_Title_XIX',\n",
       " 'Total_Discharges_Title_XVIII',\n",
       " 'Total_Discharges_Total',\n",
       " 'Total_Income',\n",
       " 'Total_RUG_Days',\n",
       " 'Total_Salaries_From_Worksheet_A',\n",
       " 'Total_current_liabilities',\n",
       " 'Total_fixed_Assets',\n",
       " 'Total_fund_balances',\n",
       " 'Total_liabilities',\n",
       " 'Total_other_Assets',\n",
       " 'Fixed_equipment',\n",
       " 'Total_Charges',\n",
       " 'Contract_Labor',\n",
       " 'SNF_Number_of_Beds',\n",
       " 'Less:_Allowances_for_uncollectible_notes_and_accounts_receivable',\n",
       " 'Total_long_term_liabilities',\n",
       " 'Investments',\n",
       " 'Net_Income_from_service_to_patients',\n",
       " 'Wage-related_Costs_(core)',\n",
       " 'Total_Salaries_(adjusted)',\n",
       " 'SNF_Average_Length_of_Stay_Total',\n",
       " 'Notes_Payable',\n",
       " 'Other_long_term_liabilities',\n",
       " 'Payroll_taxes_payable',\n",
       " 'Land_improvements',\n",
       " 'Allowable_Bad_Debts',\n",
       " 'SNF_Average_Length_of_Stay_Title_XVIII',\n",
       " 'Total_General_Inpatient_Care_Services_Revenue',\n",
       " 'Total_Liabilities_and_fund_balances',\n",
       " 'SNF_Average_Length_of_Stay_Title_XIX',\n",
       " 'Other_current_assets',\n",
       " 'Total_Current_Assets',\n",
       " 'Total_Other_Income',\n",
       " 'SNF_Bed_Days_Available',\n",
       " 'Leasehold_improvements',\n",
       " 'Mortgage_payable',\n",
       " 'Notes_and_Loans_Payable_(short_term)',\n",
       " 'Land',\n",
       " 'Inventory',\n",
       " 'Prepaid_expenses',\n",
       " 'Year']"
      ]
     },
     "execution_count": 10,
     "metadata": {},
     "output_type": "execute_result"
    }
   ],
   "source": [
    "my_columns"
   ]
  },
  {
   "cell_type": "code",
   "execution_count": 11,
   "metadata": {},
   "outputs": [
    {
     "data": {
      "text/plain": [
       "['rpt_rec_num',\n",
       " 'Provider_CCN',\n",
       " 'Facility_Name',\n",
       " 'Street_Address',\n",
       " 'City',\n",
       " 'State_Code',\n",
       " 'Zip_Code',\n",
       " 'County',\n",
       " 'Medicare_CBSA_Number',\n",
       " 'Rural_versus_Urban',\n",
       " 'Fiscal_Year_Begin_Date',\n",
       " 'Fiscal_Year_End_Date',\n",
       " 'Type_of_Control',\n",
       " 'Accounts_Receivable',\n",
       " 'Accounts_payable',\n",
       " 'Cash_on_hand_and_in_banks',\n",
       " 'General_fund_balance',\n",
       " 'Gross_Revenue',\n",
       " 'Inpatient_PPS_Amount',\n",
       " 'Inpatient_Revenue',\n",
       " 'Less_Total_Operating_Expense',\n",
       " 'Less_discounts_on_patients',\n",
       " 'Net_Income',\n",
       " 'Net_Patient_Revenue',\n",
       " 'Number_of_Beds',\n",
       " 'Overhead_Non_Salary_Costs',\n",
       " 'SNF_Admissions_Other',\n",
       " 'SNF_Admissions_Title_XVIII',\n",
       " 'SNF_Admissions_Total',\n",
       " 'SNF_Days_Other',\n",
       " 'SNF_Days_Title_XVIII',\n",
       " 'SNF_Days_Total',\n",
       " 'SNF_Discharges_Title_Other',\n",
       " 'SNF_Discharges_Title_XVIII',\n",
       " 'SNF_Discharges_Total',\n",
       " 'Total_Assets',\n",
       " 'Total_Bed_Days_Available',\n",
       " 'Total_Costs',\n",
       " 'Total_Days_Other',\n",
       " 'Total_Days_Title_XVIII',\n",
       " 'Total_Days_Total',\n",
       " 'Total_Discharges_Title_Other',\n",
       " 'Total_Discharges_Title_XVIII',\n",
       " 'Total_Discharges_Total',\n",
       " 'Total_Income',\n",
       " 'Total_Salaries_From_Worksheet_A',\n",
       " 'Total_current_liabilities',\n",
       " 'Total_fixed_Assets',\n",
       " 'Total_fund_balances',\n",
       " 'Total_liabilities',\n",
       " 'SNF_Number_of_Beds',\n",
       " 'Net_Income_from_service_to_patients',\n",
       " 'Wage-related_Costs_(core)',\n",
       " 'Total_Salaries_(adjusted)',\n",
       " 'SNF_Average_Length_of_Stay_Total',\n",
       " 'SNF_Average_Length_of_Stay_Title_XVIII',\n",
       " 'Total_General_Inpatient_Care_Services_Revenue',\n",
       " 'Total_Liabilities_and_fund_balances',\n",
       " 'Total_Current_Assets',\n",
       " 'Total_Other_Income',\n",
       " 'Year']"
      ]
     },
     "execution_count": 11,
     "metadata": {},
     "output_type": "execute_result"
    }
   ],
   "source": [
    "list(df.dropna(thresh=int(df.shape[0] * .9), axis=1).columns)"
   ]
  },
  {
   "cell_type": "markdown",
   "metadata": {},
   "source": [
    "### I want to find all columns that have missing data"
   ]
  },
  {
   "cell_type": "code",
   "execution_count": 12,
   "metadata": {},
   "outputs": [],
   "source": [
    "missing_info = list(df.columns[df.isnull().any()])"
   ]
  },
  {
   "cell_type": "code",
   "execution_count": 13,
   "metadata": {},
   "outputs": [
    {
     "data": {
      "text/plain": [
       "['Street_Address',\n",
       " 'County',\n",
       " 'Medicare_CBSA_Number',\n",
       " 'Rural_versus_Urban',\n",
       " 'Fiscal_Year_Begin_Date',\n",
       " 'Fiscal_Year_End_Date',\n",
       " 'Type_of_Control',\n",
       " 'Accounts_Receivable',\n",
       " 'Accounts_payable',\n",
       " 'Buildings',\n",
       " 'Cash_on_hand_and_in_banks',\n",
       " 'General_fund_balance',\n",
       " 'Gross_Revenue',\n",
       " 'Inpatient_PPS_Amount',\n",
       " 'Inpatient_Revenue',\n",
       " 'Less_Total_Operating_Expense',\n",
       " 'Less_discounts_on_patients',\n",
       " 'Major_movable_equipment',\n",
       " 'Net_Income',\n",
       " 'Net_Patient_Revenue',\n",
       " 'Number_of_Beds',\n",
       " 'Other_Assets',\n",
       " 'Other_current_liabilities',\n",
       " 'Overhead_Non_Salary_Costs',\n",
       " 'SNF_Admissions_Other',\n",
       " 'SNF_Admissions_Title_XIX',\n",
       " 'SNF_Admissions_Title_XVIII',\n",
       " 'SNF_Admissions_Total',\n",
       " 'SNF_Days_Other',\n",
       " 'SNF_Days_Title_XIX',\n",
       " 'SNF_Days_Title_XVIII',\n",
       " 'SNF_Days_Total',\n",
       " 'SNF_Discharges_Title_Other',\n",
       " 'SNF_Discharges_Title_XIX',\n",
       " 'SNF_Discharges_Title_XVIII',\n",
       " 'SNF_Discharges_Total',\n",
       " 'Salaries_wages_and_fees_payable',\n",
       " 'Total_Assets',\n",
       " 'Total_Bed_Days_Available',\n",
       " 'Total_Costs',\n",
       " 'Total_Days_Other',\n",
       " 'Total_Days_Title_XIX',\n",
       " 'Total_Days_Title_XVIII',\n",
       " 'Total_Days_Total',\n",
       " 'Total_Discharges_Title_Other',\n",
       " 'Total_Discharges_Title_XIX',\n",
       " 'Total_Discharges_Title_XVIII',\n",
       " 'Total_Discharges_Total',\n",
       " 'Total_Income',\n",
       " 'Total_RUG_Days',\n",
       " 'Total_Salaries_From_Worksheet_A',\n",
       " 'Total_current_liabilities',\n",
       " 'Total_fixed_Assets',\n",
       " 'Total_fund_balances',\n",
       " 'Total_liabilities',\n",
       " 'Total_other_Assets',\n",
       " 'Fixed_equipment',\n",
       " 'Total_Charges',\n",
       " 'Contract_Labor',\n",
       " 'SNF_Number_of_Beds',\n",
       " 'Less:_Allowances_for_uncollectible_notes_and_accounts_receivable',\n",
       " 'Total_long_term_liabilities',\n",
       " 'Investments',\n",
       " 'Net_Income_from_service_to_patients',\n",
       " 'Wage-related_Costs_(core)',\n",
       " 'Total_Salaries_(adjusted)',\n",
       " 'SNF_Average_Length_of_Stay_Total',\n",
       " 'Notes_Payable',\n",
       " 'Other_long_term_liabilities',\n",
       " 'Payroll_taxes_payable',\n",
       " 'Land_improvements',\n",
       " 'Allowable_Bad_Debts',\n",
       " 'SNF_Average_Length_of_Stay_Title_XVIII',\n",
       " 'Total_General_Inpatient_Care_Services_Revenue',\n",
       " 'Total_Liabilities_and_fund_balances',\n",
       " 'SNF_Average_Length_of_Stay_Title_XIX',\n",
       " 'Other_current_assets',\n",
       " 'Total_Current_Assets',\n",
       " 'Total_Other_Income',\n",
       " 'SNF_Bed_Days_Available',\n",
       " 'Leasehold_improvements',\n",
       " 'Mortgage_payable',\n",
       " 'Notes_and_Loans_Payable_(short_term)',\n",
       " 'Land',\n",
       " 'Inventory',\n",
       " 'Prepaid_expenses']"
      ]
     },
     "execution_count": 13,
     "metadata": {},
     "output_type": "execute_result"
    }
   ],
   "source": [
    "missing_info"
   ]
  },
  {
   "cell_type": "code",
   "execution_count": 14,
   "metadata": {},
   "outputs": [
    {
     "name": "stdout",
     "output_type": "stream",
     "text": [
      "number missing for column Street_Address: 9\n",
      "number missing for column County: 1\n",
      "number missing for column Medicare_CBSA_Number: 2119\n",
      "number missing for column Rural_versus_Urban: 2187\n",
      "number missing for column Fiscal_Year_Begin_Date: 2072\n",
      "number missing for column Fiscal_Year_End_Date: 2072\n",
      "number missing for column Type_of_Control: 46\n",
      "number missing for column Accounts_Receivable: 5038\n",
      "number missing for column Accounts_payable: 4378\n",
      "number missing for column Buildings: 63247\n",
      "number missing for column Cash_on_hand_and_in_banks: 4567\n",
      "number missing for column General_fund_balance: 2434\n",
      "number missing for column Gross_Revenue: 2283\n",
      "number missing for column Inpatient_PPS_Amount: 2195\n",
      "number missing for column Inpatient_Revenue: 2284\n",
      "number missing for column Less_Total_Operating_Expense: 2074\n",
      "number missing for column Less_discounts_on_patients: 9061\n",
      "number missing for column Major_movable_equipment: 33289\n",
      "number missing for column Net_Income: 2360\n",
      "number missing for column Net_Patient_Revenue: 2279\n",
      "number missing for column Number_of_Beds: 2402\n",
      "number missing for column Other_Assets: 45515\n",
      "number missing for column Other_current_liabilities: 20865\n",
      "number missing for column Overhead_Non_Salary_Costs: 2072\n",
      "number missing for column SNF_Admissions_Other: 4367\n",
      "number missing for column SNF_Admissions_Title_XIX: 15674\n",
      "number missing for column SNF_Admissions_Title_XVIII: 3319\n",
      "number missing for column SNF_Admissions_Total: 2984\n",
      "number missing for column SNF_Days_Other: 2958\n",
      "number missing for column SNF_Days_Title_XIX: 13313\n",
      "number missing for column SNF_Days_Title_XVIII: 2204\n",
      "number missing for column SNF_Days_Total: 2092\n",
      "number missing for column SNF_Discharges_Title_Other: 3848\n",
      "number missing for column SNF_Discharges_Title_XIX: 14834\n",
      "number missing for column SNF_Discharges_Title_XVIII: 2700\n",
      "number missing for column SNF_Discharges_Total: 2370\n",
      "number missing for column Salaries_wages_and_fees_payable: 11260\n",
      "number missing for column Total_Assets: 2779\n",
      "number missing for column Total_Bed_Days_Available: 2409\n",
      "number missing for column Total_Costs: 2138\n",
      "number missing for column Total_Days_Other: 2358\n",
      "number missing for column Total_Days_Title_XIX: 12568\n",
      "number missing for column Total_Days_Title_XVIII: 2203\n",
      "number missing for column Total_Days_Total: 2082\n",
      "number missing for column Total_Discharges_Title_Other: 3734\n",
      "number missing for column Total_Discharges_Title_XIX: 14065\n",
      "number missing for column Total_Discharges_Title_XVIII: 2700\n",
      "number missing for column Total_Discharges_Total: 2357\n",
      "number missing for column Total_Income: 2308\n",
      "number missing for column Total_RUG_Days: 32237\n",
      "number missing for column Total_Salaries_From_Worksheet_A: 2073\n",
      "number missing for column Total_current_liabilities: 3104\n",
      "number missing for column Total_fixed_Assets: 8455\n",
      "number missing for column Total_fund_balances: 2434\n",
      "number missing for column Total_liabilities: 3017\n",
      "number missing for column Total_other_Assets: 31674\n",
      "number missing for column Fixed_equipment: 59890\n",
      "number missing for column Total_Charges: 76687\n",
      "number missing for column Contract_Labor: 85516\n",
      "number missing for column SNF_Number_of_Beds: 2418\n",
      "number missing for column Less:_Allowances_for_uncollectible_notes_and_accounts_receivable: 85990\n",
      "number missing for column Total_long_term_liabilities: 12785\n",
      "number missing for column Investments: 103201\n",
      "number missing for column Net_Income_from_service_to_patients: 2081\n",
      "number missing for column Wage-related_Costs_(core): 2685\n",
      "number missing for column Total_Salaries_(adjusted): 2073\n",
      "number missing for column SNF_Average_Length_of_Stay_Total: 2372\n",
      "number missing for column Notes_Payable: 98300\n",
      "number missing for column Other_long_term_liabilities: 96281\n",
      "number missing for column Payroll_taxes_payable: 87269\n",
      "number missing for column Land_improvements: 96545\n",
      "number missing for column Allowable_Bad_Debts: 84201\n",
      "number missing for column SNF_Average_Length_of_Stay_Title_XVIII: 2712\n",
      "number missing for column Total_General_Inpatient_Care_Services_Revenue: 2286\n",
      "number missing for column Total_Liabilities_and_fund_balances: 2190\n",
      "number missing for column SNF_Average_Length_of_Stay_Title_XIX: 14921\n",
      "number missing for column Other_current_assets: 97244\n",
      "number missing for column Total_Current_Assets: 2933\n",
      "number missing for column Total_Other_Income: 2777\n",
      "number missing for column SNF_Bed_Days_Available: 76744\n",
      "number missing for column Leasehold_improvements: 88302\n",
      "number missing for column Mortgage_payable: 102405\n",
      "number missing for column Notes_and_Loans_Payable_(short_term): 98215\n",
      "number missing for column Land: 80532\n",
      "number missing for column Inventory: 96562\n",
      "number missing for column Prepaid_expenses: 80158\n"
     ]
    }
   ],
   "source": [
    "for col in missing_info:\n",
    "    num_missing = df[df[col].isnull() == True].shape[0]\n",
    "    print('number missing for column {}: {}'.format(col, \n",
    "                                                    num_missing))"
   ]
  },
  {
   "cell_type": "code",
   "execution_count": 15,
   "metadata": {},
   "outputs": [
    {
     "name": "stdout",
     "output_type": "stream",
     "text": [
      "percent missing for column Street_Address: 8.469073765632498e-05\n",
      "percent missing for column County: 9.410081961813887e-06\n",
      "percent missing for column Medicare_CBSA_Number: 0.019939963677083627\n",
      "percent missing for column Rural_versus_Urban: 0.020579849250486972\n",
      "percent missing for column Fiscal_Year_Begin_Date: 0.019497689824878376\n",
      "percent missing for column Fiscal_Year_End_Date: 0.019497689824878376\n",
      "percent missing for column Type_of_Control: 0.0004328637702434388\n",
      "percent missing for column Accounts_Receivable: 0.047407992923618365\n",
      "percent missing for column Accounts_payable: 0.0411973388288212\n",
      "percent missing for column Buildings: 0.595159453838843\n",
      "percent missing for column Cash_on_hand_and_in_banks: 0.04297584431960402\n",
      "percent missing for column General_fund_balance: 0.022904139495055\n",
      "percent missing for column Gross_Revenue: 0.021483217118821105\n",
      "percent missing for column Inpatient_PPS_Amount: 0.020655129906181482\n",
      "percent missing for column Inpatient_Revenue: 0.02149262720078292\n",
      "percent missing for column Less_Total_Operating_Expense: 0.019516509988802003\n",
      "percent missing for column Less_discounts_on_patients: 0.08526475265599563\n",
      "percent missing for column Major_movable_equipment: 0.3132522184268225\n",
      "percent missing for column Net_Income: 0.022207793429880773\n",
      "percent missing for column Net_Patient_Revenue: 0.02144557679097385\n",
      "percent missing for column Number_of_Beds: 0.02260301687227696\n",
      "percent missing for column Other_Assets: 0.4282998804919591\n",
      "percent missing for column Other_current_liabilities: 0.19634136013324677\n",
      "percent missing for column Overhead_Non_Salary_Costs: 0.019497689824878376\n",
      "percent missing for column SNF_Admissions_Other: 0.04109382792724125\n",
      "percent missing for column SNF_Admissions_Title_XIX: 0.14749362466947086\n",
      "percent missing for column SNF_Admissions_Title_XVIII: 0.03123206203126029\n",
      "percent missing for column SNF_Admissions_Total: 0.02807968457405264\n",
      "percent missing for column SNF_Days_Other: 0.02783502244304548\n",
      "percent missing for column SNF_Days_Title_XIX: 0.12527642115762827\n",
      "percent missing for column SNF_Days_Title_XVIII: 0.02073982064383781\n",
      "percent missing for column SNF_Days_Total: 0.019685891464114653\n",
      "percent missing for column SNF_Discharges_Title_Other: 0.03620999538905984\n",
      "percent missing for column SNF_Discharges_Title_XIX: 0.1395891558215472\n",
      "percent missing for column SNF_Discharges_Title_XVIII: 0.025407221296897497\n",
      "percent missing for column SNF_Discharges_Total: 0.022301894249498914\n",
      "percent missing for column Salaries_wages_and_fees_payable: 0.10595752289002437\n",
      "percent missing for column Total_Assets: 0.026150617771880793\n",
      "percent missing for column Total_Bed_Days_Available: 0.022668887446009655\n",
      "percent missing for column Total_Costs: 0.02011875523435809\n",
      "percent missing for column Total_Days_Other: 0.022188973265957146\n",
      "percent missing for column Total_Days_Title_XIX: 0.11826591009607694\n",
      "percent missing for column Total_Days_Title_XVIII: 0.020730410561875995\n",
      "percent missing for column Total_Days_Total: 0.019591790644496513\n",
      "percent missing for column Total_Discharges_Title_Other: 0.03513724604541305\n",
      "percent missing for column Total_Discharges_Title_XIX: 0.13235280279291234\n",
      "percent missing for column Total_Discharges_Title_XVIII: 0.025407221296897497\n",
      "percent missing for column Total_Discharges_Total: 0.022179563183995332\n",
      "percent missing for column Total_Income: 0.02171846916786645\n",
      "percent missing for column Total_RUG_Days: 0.3033528122029943\n",
      "percent missing for column Total_Salaries_From_Worksheet_A: 0.01950709990684019\n",
      "percent missing for column Total_current_liabilities: 0.029208894409470307\n",
      "percent missing for column Total_fixed_Assets: 0.07956224298713642\n",
      "percent missing for column Total_fund_balances: 0.022904139495055\n",
      "percent missing for column Total_liabilities: 0.0283902172787925\n",
      "percent missing for column Total_other_Assets: 0.2980549360584931\n",
      "percent missing for column Fixed_equipment: 0.5635698086930337\n",
      "percent missing for column Total_Charges: 0.7216309554056216\n",
      "percent missing for column Contract_Labor: 0.8047125690464764\n",
      "percent missing for column SNF_Number_of_Beds: 0.022753578183665978\n",
      "percent missing for column Less:_Allowances_for_uncollectible_notes_and_accounts_receivable: 0.8091729478963762\n",
      "percent missing for column Total_long_term_liabilities: 0.12030789788179055\n",
      "percent missing for column Investments: 0.971129868541155\n",
      "percent missing for column Net_Income_from_service_to_patients: 0.0195823805625347\n",
      "percent missing for column Wage-related_Costs_(core): 0.025266070067470288\n",
      "percent missing for column Total_Salaries_(adjusted): 0.01950709990684019\n",
      "percent missing for column SNF_Average_Length_of_Stay_Total: 0.02232071441342254\n",
      "percent missing for column Notes_Payable: 0.9250110568463051\n",
      "percent missing for column Other_long_term_liabilities: 0.9060121013654029\n",
      "percent missing for column Payroll_taxes_payable: 0.8212084427255362\n",
      "percent missing for column Land_improvements: 0.9084963630033217\n",
      "percent missing for column Allowable_Bad_Debts: 0.7923383112666912\n",
      "percent missing for column SNF_Average_Length_of_Stay_Title_XVIII: 0.02552014228043926\n",
      "percent missing for column Total_General_Inpatient_Care_Services_Revenue: 0.021511447364706546\n",
      "percent missing for column Total_Liabilities_and_fund_balances: 0.020608079496372413\n",
      "percent missing for column SNF_Average_Length_of_Stay_Title_XIX: 0.140407832952225\n",
      "percent missing for column Other_current_assets: 0.9150740102946296\n",
      "percent missing for column Total_Current_Assets: 0.02759977039400013\n",
      "percent missing for column Total_Other_Income: 0.026131797607957166\n",
      "percent missing for column SNF_Bed_Days_Available: 0.7221673300774449\n",
      "percent missing for column Leasehold_improvements: 0.8309290573920899\n",
      "percent missing for column Mortgage_payable: 0.9636394432995511\n",
      "percent missing for column Notes_and_Loans_Payable_(short_term): 0.9242111998795509\n",
      "percent missing for column Land: 0.757812720548796\n",
      "percent missing for column Inventory: 0.9086563343966726\n",
      "percent missing for column Prepaid_expenses: 0.7542933498950776\n"
     ]
    }
   ],
   "source": [
    "for col in missing_info:\n",
    "    percent_missing = df[df[col].isnull() == True].shape[0] / df.shape[0]\n",
    "    print('percent missing for column {}: {}'.format(\n",
    "        col, percent_missing))"
   ]
  },
  {
   "cell_type": "markdown",
   "metadata": {},
   "source": [
    "### Can I easily substitute majority values in for missing data?"
   ]
  },
  {
   "cell_type": "code",
   "execution_count": 23,
   "metadata": {},
   "outputs": [
    {
     "data": {
      "text/plain": [
       "Accounts_Receivable\n",
       "236689133.0    95\n",
       "48423051.0     78\n",
       "41103144.0     78\n",
       "118256260.0    78\n",
       "40341303.0     78\n",
       "               ..\n",
       "351218.0        1\n",
       "1445177.0       1\n",
       "1257361.0       1\n",
       "610738.0        1\n",
       "310452.0        1\n",
       "Name: count, Length: 97870, dtype: int64"
      ]
     },
     "execution_count": 23,
     "metadata": {},
     "output_type": "execute_result"
    }
   ],
   "source": [
    "df.Accounts_Receivable.value_counts()"
   ]
  },
  {
   "cell_type": "code",
   "execution_count": 24,
   "metadata": {},
   "outputs": [
    {
     "data": {
      "text/plain": [
       "Accounts_Receivable\n",
       "236689133.0    95\n",
       "48423051.0     78\n",
       "41103144.0     78\n",
       "118256260.0    78\n",
       "40341303.0     78\n",
       "Name: count, dtype: int64"
      ]
     },
     "execution_count": 24,
     "metadata": {},
     "output_type": "execute_result"
    }
   ],
   "source": [
    "df.Accounts_Receivable.value_counts().head()"
   ]
  },
  {
   "cell_type": "code",
   "execution_count": 25,
   "metadata": {},
   "outputs": [
    {
     "data": {
      "text/plain": [
       "Accounts_Receivable\n",
       "236689133.0    95\n",
       "48423051.0     78\n",
       "41103144.0     78\n",
       "118256260.0    78\n",
       "40341303.0     78\n",
       "               ..\n",
       "351218.0        1\n",
       "1445177.0       1\n",
       "1257361.0       1\n",
       "610738.0        1\n",
       "310452.0        1\n",
       "Name: count, Length: 97870, dtype: int64"
      ]
     },
     "execution_count": 25,
     "metadata": {},
     "output_type": "execute_result"
    }
   ],
   "source": [
    "df.Accounts_Receivable.value_counts()"
   ]
  },
  {
   "cell_type": "code",
   "execution_count": null,
   "metadata": {},
   "outputs": [],
   "source": [
    "df.latest = df.latest.fillna(0)"
   ]
  },
  {
   "cell_type": "markdown",
   "metadata": {},
   "source": [
    "### Have not yet addressed temperature missing values... Let's find a way to fill"
   ]
  },
  {
   "cell_type": "code",
   "execution_count": 27,
   "metadata": {},
   "outputs": [
    {
     "data": {
      "text/plain": [
       "Accounts_Receivable\n",
       "236689133.0    95\n",
       "48423051.0     78\n",
       "41103144.0     78\n",
       "118256260.0    78\n",
       "40341303.0     78\n",
       "               ..\n",
       "351218.0        1\n",
       "1445177.0       1\n",
       "1257361.0       1\n",
       "610738.0        1\n",
       "310452.0        1\n",
       "Name: count, Length: 97870, dtype: int64"
      ]
     },
     "execution_count": 27,
     "metadata": {},
     "output_type": "execute_result"
    }
   ],
   "source": [
    "df.Accounts_Receivable.value_counts()"
   ]
  },
  {
   "cell_type": "code",
   "execution_count": null,
   "metadata": {},
   "outputs": [],
   "source": [
    "df = df.set_index('timestamp')"
   ]
  },
  {
   "cell_type": "code",
   "execution_count": null,
   "metadata": {},
   "outputs": [],
   "source": [
    "df.head()"
   ]
  },
  {
   "cell_type": "code",
   "execution_count": null,
   "metadata": {},
   "outputs": [],
   "source": [
    "df.temperature = df.groupby('username').temperature.fillna(\n",
    "    method='backfill', limit=3)"
   ]
  },
  {
   "cell_type": "markdown",
   "metadata": {},
   "source": [
    "### Exercise: How many temperature values did I fill? What percentage of values are still missing (for temperature)?"
   ]
  },
  {
   "cell_type": "code",
   "execution_count": null,
   "metadata": {},
   "outputs": [],
   "source": [
    "# %load ../solutions/nulls.py\n"
   ]
  },
  {
   "cell_type": "code",
   "execution_count": null,
   "metadata": {},
   "outputs": [],
   "source": []
  },
  {
   "cell_type": "code",
   "execution_count": null,
   "metadata": {},
   "outputs": [],
   "source": [
    "rows_filled"
   ]
  },
  {
   "cell_type": "code",
   "execution_count": null,
   "metadata": {},
   "outputs": [],
   "source": [
    "still_missing"
   ]
  },
  {
   "cell_type": "code",
   "execution_count": null,
   "metadata": {},
   "outputs": [],
   "source": []
  }
 ],
 "metadata": {
  "kernelspec": {
   "display_name": "Python 3",
   "language": "python",
   "name": "python3"
  },
  "language_info": {
   "codemirror_mode": {
    "name": "ipython",
    "version": 3
   },
   "file_extension": ".py",
   "mimetype": "text/x-python",
   "name": "python",
   "nbconvert_exporter": "python",
   "pygments_lexer": "ipython3",
   "version": "3.12.3"
  }
 },
 "nbformat": 4,
 "nbformat_minor": 2
}
